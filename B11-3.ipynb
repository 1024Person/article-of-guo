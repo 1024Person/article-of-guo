{
 "cells": [
  {
   "cell_type": "code",
   "execution_count": 15,
   "id": "bc0bb36e-1b28-44fb-8316-e7b82f71e5ec",
   "metadata": {},
   "outputs": [],
   "source": [
    "import sympy as sp\n",
    "from sympy.abc import x,y\n",
    "from sympy import I,sin,cos,series,exp,expand,symbols,Rational\n",
    "from sympy.physics.quantum.spin import Jx,Jy,Jz,JzKet,JzBra,Jplus,Jminus\n",
    "from sympy.physics.quantum.qapply import qapply\n",
    "sp.init_printing()"
   ]
  },
  {
   "cell_type": "code",
   "execution_count": 4,
   "id": "6c1f9c18-4771-4479-aa51-8a15828b571c",
   "metadata": {},
   "outputs": [],
   "source": [
    "B2,B3,B8,B9,B11,B12 = sp.symbols('B_2,B_3,B_8,B_9,B_{11},B_{12}')\n",
    "x33 = B2*Jy+B3*Jz+B8*Jy*Jz+B9*Jz*Jy+B11*Jy**2+B12*Jz**2\n",
    "mu,nu,N = symbols(\"mu,nu,N\")\n",
    "state0 = JzKet(N/2,-N/2)"
   ]
  },
  {
   "cell_type": "code",
   "execution_count": 62,
   "id": "6afb9ce6-31b1-445b-8df8-65d19b0b980c",
   "metadata": {},
   "outputs": [
    {
     "data": {
      "image/png": "[encoded data removed]",
      "text/latex": [
       "$\\displaystyle \\frac{B_{11} \\sin{\\left(\\mu \\right)} \\sin{\\left(\\nu \\right)} J_- J_+ J_- J_+}{16} - \\frac{B_{11} \\sin{\\left(\\mu \\right)} \\sin{\\left(\\nu \\right)} J_- J_+ J_-^{2}}{16} + \\frac{B_{11} \\sin{\\left(\\mu \\right)} \\sin{\\left(\\nu \\right)} J_- J_+^{2} J_-}{16} - \\frac{B_{11} \\sin{\\left(\\mu \\right)} \\sin{\\left(\\nu \\right)} J_- J_+^{3}}{16} - \\frac{B_{11} \\sin{\\left(\\mu \\right)} \\sin{\\left(\\nu \\right)} J_-^{2} J_+ J_-}{16} + \\frac{B_{11} \\sin{\\left(\\mu \\right)} \\sin{\\left(\\nu \\right)} J_-^{2} J_+^{2}}{16} - \\frac{B_{11} \\sin{\\left(\\mu \\right)} \\sin{\\left(\\nu \\right)} J_-^{3} J_+}{16} + \\frac{B_{11} \\sin{\\left(\\mu \\right)} \\sin{\\left(\\nu \\right)} J_-^{4}}{16} - \\frac{B_{11} \\sin{\\left(\\mu \\right)} \\sin{\\left(\\nu \\right)} J_+ J_- J_+ J_-}{16} + \\frac{B_{11} \\sin{\\left(\\mu \\right)} \\sin{\\left(\\nu \\right)} J_+ J_- J_+^{2}}{16} - \\frac{B_{11} \\sin{\\left(\\mu \\right)} \\sin{\\left(\\nu \\right)} J_+ J_-^{2} J_+}{16} + \\frac{B_{11} \\sin{\\left(\\mu \\right)} \\sin{\\left(\\nu \\right)} J_+ J_-^{3}}{16} + \\frac{B_{11} \\sin{\\left(\\mu \\right)} \\sin{\\left(\\nu \\right)} J_+^{2} J_- J_+}{16} - \\frac{B_{11} \\sin{\\left(\\mu \\right)} \\sin{\\left(\\nu \\right)} J_+^{2} J_-^{2}}{16} + \\frac{B_{11} \\sin{\\left(\\mu \\right)} \\sin{\\left(\\nu \\right)} J_+^{3} J_-}{16} - \\frac{B_{11} \\sin{\\left(\\mu \\right)} \\sin{\\left(\\nu \\right)} J_+^{4}}{16}$"
      ],
      "text/plain": [
       "                                                                  2           \n",
       "B_{11}⋅sin(μ)⋅sin(ν)⋅J ⋅J ⋅J ⋅J    B_{11}⋅sin(μ)⋅sin(ν)⋅J ⋅J ⋅⎛J ⎞    B_{11}⋅s\n",
       "                      -  +  -  +                         -  + ⎝ -⎠            \n",
       "──────────────────────────────── - ──────────────────────────────── + ────────\n",
       "               16                                 16                          \n",
       "\n",
       "                    2                                  3                      \n",
       "in(μ)⋅sin(ν)⋅J ⋅⎛J ⎞ ⋅J    B_{11}⋅sin(μ)⋅sin(ν)⋅J ⋅⎛J ⎞    B_{11}⋅sin(μ)⋅sin(ν\n",
       "              - ⎝ +⎠   -                         - ⎝ +⎠                       \n",
       "──────────────────────── - ───────────────────────────── - ───────────────────\n",
       "       16                                16                               16  \n",
       "\n",
       "      2                                  2     2                            3 \n",
       ")⋅⎛J ⎞ ⋅J ⋅J    B_{11}⋅sin(μ)⋅sin(ν)⋅⎛J ⎞ ⋅⎛J ⎞    B_{11}⋅sin(μ)⋅sin(ν)⋅⎛J ⎞ ⋅\n",
       "  ⎝ -⎠   +  -                        ⎝ -⎠  ⎝ +⎠                         ⎝ -⎠  \n",
       "───────────── + ──────────────────────────────── - ───────────────────────────\n",
       "                               16                                16           \n",
       "\n",
       "                              4                                               \n",
       "J    B_{11}⋅sin(μ)⋅sin(ν)⋅⎛J ⎞    B_{11}⋅sin(μ)⋅sin(ν)⋅J ⋅J ⋅J ⋅J    B_{11}⋅si\n",
       " +                        ⎝ -⎠                          +  -  +  -            \n",
       "── + ────────────────────────── - ──────────────────────────────── + ─────────\n",
       "                 16                              16                           \n",
       "\n",
       "                      2                               2                       \n",
       "n(μ)⋅sin(ν)⋅J ⋅J ⋅⎛J ⎞    B_{11}⋅sin(μ)⋅sin(ν)⋅J ⋅⎛J ⎞ ⋅J    B_{11}⋅sin(μ)⋅sin\n",
       "             +  - ⎝ +⎠                          + ⎝ -⎠   +                    \n",
       "─────────────────────── - ──────────────────────────────── + ─────────────────\n",
       "      16                                 16                                16 \n",
       "\n",
       "           3                            2                                  2  \n",
       "(ν)⋅J ⋅⎛J ⎞    B_{11}⋅sin(μ)⋅sin(ν)⋅⎛J ⎞ ⋅J ⋅J    B_{11}⋅sin(μ)⋅sin(ν)⋅⎛J ⎞ ⋅⎛\n",
       "     + ⎝ -⎠                         ⎝ +⎠   -  +                        ⎝ +⎠  ⎝\n",
       "──────────── + ──────────────────────────────── - ────────────────────────────\n",
       "                              16                                 16           \n",
       "\n",
       "   2                            3                               4\n",
       "J ⎞    B_{11}⋅sin(μ)⋅sin(ν)⋅⎛J ⎞ ⋅J    B_{11}⋅sin(μ)⋅sin(ν)⋅⎛J ⎞ \n",
       " -⎠                         ⎝ +⎠   -                        ⎝ +⎠ \n",
       "──── + ───────────────────────────── - ──────────────────────────\n",
       "                     16                            16            "
      ]
     },
     "execution_count": 62,
     "metadata": {},
     "output_type": "execute_result"
    }
   ],
   "source": [
    "expr = I*B11*sin(mu)*sin(nu)*Jx*Jy**3\n",
    "r1 = expand(expr.subs({Jx:Rational(1/2)*(Jplus+Jminus),Jy:Rational(1/2)/I*(Jplus-Jminus)}))\n",
    "r1"
   ]
  },
  {
   "cell_type": "code",
   "execution_count": 46,
   "id": "65070802-c431-4074-9359-f28deb496074",
   "metadata": {},
   "outputs": [
    {
     "data": {
      "image/png": "[encoded data removed]",
      "text/latex": [
       "$\\displaystyle \\left( \\hbar^{4} N^{2}, \\  \\hbar^{4} N \\left(2 N - 2\\right)\\right)$"
      ],
      "text/plain": [
       "⎛ 4  2   4            ⎞\n",
       "⎝ℏ ⋅N , ℏ ⋅N⋅(2⋅N - 2)⎠"
      ]
     },
     "execution_count": 46,
     "metadata": {},
     "output_type": "execute_result"
    }
   ],
   "source": [
    "(\n",
    "    qapply(JzBra(N/2,-N/2)*Jminus*Jplus*Jminus*Jplus*state0),\n",
    "    qapply(JzBra(N/2,-N/2)*Jminus**2*Jplus**2*state0),\n",
    ")"
   ]
  },
  {
   "cell_type": "code",
   "execution_count": 42,
   "id": "c55cfcc7-8c52-4440-9fb8-6ec494933eda",
   "metadata": {},
   "outputs": [
    {
     "data": {
      "image/png": "[encoded data removed]",
      "text/latex": [
       "$\\displaystyle \\left( 0, \\  0, \\  0, \\  0, \\  0, \\  0, \\  0, \\  0\\right)$"
      ],
      "text/plain": [
       "(0, 0, 0, 0, 0, 0, 0, 0)"
      ]
     },
     "execution_count": 42,
     "metadata": {},
     "output_type": "execute_result"
    }
   ],
   "source": [
    "(\n",
    "    qapply(Jminus*Jplus*Jplus*Jminus*state0),\n",
    "    qapply(Jplus*Jminus*Jplus*Jminus*state0),\n",
    "    qapply(Jminus**2*Jplus*Jminus*state0),\n",
    "    qapply(Jminus**3*Jplus*state0),\n",
    "    qapply(Jplus*Jminus**2*Jplus*state0),\n",
    "    qapply(Jplus*Jminus**3*state0),\n",
    "    qapply(Jplus**2*Jminus**2*state0),\n",
    "    qapply(Jplus**3*Jminus*state0),\n",
    "    \n",
    ")"
   ]
  },
  {
   "cell_type": "code",
   "execution_count": 43,
   "id": "ff75ce93-f0fc-45f8-a552-8d22180e7ad8",
   "metadata": {},
   "outputs": [
    {
     "data": {
      "image/png": "[encoded data removed]",
      "text/latex": [
       "$\\displaystyle \\left( \\hbar^{4} \\sqrt{N} \\sqrt{2 N - 2} \\cdot \\left(3 N - 6\\right) {\\left|\\frac{N}{2},2 - \\frac{N}{2}\\right\\rangle }, \\  \\hbar^{4} \\sqrt{N} \\left(2 N - 2\\right)^{\\frac{3}{2}} {\\left|\\frac{N}{2},2 - \\frac{N}{2}\\right\\rangle }, \\  \\hbar^{4} N^{\\frac{3}{2}} \\sqrt{2 N - 2} {\\left|\\frac{N}{2},2 - \\frac{N}{2}\\right\\rangle }, \\  \\hbar^{4} \\sqrt{N} \\sqrt{2 N - 2} \\sqrt{3 N - 6} \\sqrt{4 N - 12} {\\left|\\frac{N}{2},4 - \\frac{N}{2}\\right\\rangle }\\right)$"
      ],
      "text/plain": [
       "⎛                            │       ╲                      │       ╲         \n",
       "⎜ 4      _________           │N     N ╲   4             3/2 │N     N ╲   4  3/\n",
       "⎜ℏ ⋅√N⋅╲╱ 2⋅N - 2 ⋅(3⋅N - 6)⋅│─,2 - ─ ╱, ℏ ⋅√N⋅(2⋅N - 2)   ⋅│─,2 - ─ ╱, ℏ ⋅N  \n",
       "⎝                            │2     2╱                      │2     2╱         \n",
       "\n",
       "              │       ╲                                              │       ╲\n",
       "2   _________ │N     N ╲   4      _________   _________   __________ │N     N \n",
       " ⋅╲╱ 2⋅N - 2 ⋅│─,2 - ─ ╱, ℏ ⋅√N⋅╲╱ 2⋅N - 2 ⋅╲╱ 3⋅N - 6 ⋅╲╱ 4⋅N - 12 ⋅│─,4 - ─ \n",
       "              │2     2╱                                              │2     2╱\n",
       "\n",
       " ⎞\n",
       "╲⎟\n",
       "╱⎟\n",
       " ⎠"
      ]
     },
     "execution_count": 43,
     "metadata": {},
     "output_type": "execute_result"
    }
   ],
   "source": [
    "(\n",
    "    qapply(Jminus*Jplus**3*state0),\n",
    "    qapply(Jplus*Jminus*Jplus**2*state0),\n",
    "    qapply(Jplus**2*Jminus*Jplus*state0),\n",
    ")"
   ]
  },
  {
   "cell_type": "code",
   "execution_count": 44,
   "id": "49baa696-a29b-4688-9dd1-24088889892e",
   "metadata": {},
   "outputs": [
    {
     "data": {
      "image/png": "[encoded data removed]",
      "text/latex": [
       "$\\displaystyle \\hbar^{4} \\sqrt{N} \\sqrt{2 N - 2} \\sqrt{3 N - 6} \\sqrt{4 N - 12} {\\left|\\frac{N}{2},4 - \\frac{N}{2}\\right\\rangle }$"
      ],
      "text/plain": [
       "                                           │       ╲ \n",
       " 4      _________   _________   __________ │N     N ╲\n",
       "ℏ ⋅√N⋅╲╱ 2⋅N - 2 ⋅╲╱ 3⋅N - 6 ⋅╲╱ 4⋅N - 12 ⋅│─,4 - ─ ╱\n",
       "                                           │2     2╱ "
      ]
     },
     "execution_count": 44,
     "metadata": {},
     "output_type": "execute_result"
    }
   ],
   "source": [
    "(\n",
    "    qapply(Jplus**4*state0)\n",
    ")"
   ]
  },
  {
   "cell_type": "code",
   "execution_count": 58,
   "id": "9d76e31c-46ff-4008-aa92-1a6e8db57649",
   "metadata": {},
   "outputs": [
    {
     "data": {
      "image/png": "[encoded data removed]",
      "text/latex": [
       "$\\displaystyle \\hbar^{2} \\sqrt{N} \\sqrt{2 N - 2} {\\left|\\frac{N}{2},2 - \\frac{N}{2}\\right\\rangle }$"
      ],
      "text/plain": [
       "                  │       ╲ \n",
       " 2      _________ │N     N ╲\n",
       "ℏ ⋅√N⋅╲╱ 2⋅N - 2 ⋅│─,2 - ─ ╱\n",
       "                  │2     2╱ "
      ]
     },
     "execution_count": 58,
     "metadata": {},
     "output_type": "execute_result"
    }
   ],
   "source": [
    "r1 = qapply(Jplus**2*state0)\n",
    "r1"
   ]
  },
  {
   "cell_type": "code",
   "execution_count": 59,
   "id": "7c57451d-9c61-4a2f-9abe-7eafb1eaed66",
   "metadata": {},
   "outputs": [
    {
     "data": {
      "image/png": "[encoded data removed]",
      "text/latex": [
       "$\\displaystyle \\hbar^{4} N \\left(2 N - 2\\right) {\\left|\\frac{N}{2},- \\frac{N}{2}\\right\\rangle }$"
      ],
      "text/plain": [
       "               │     ╲ \n",
       " 4             │N -N  ╲\n",
       "ℏ ⋅N⋅(2⋅N - 2)⋅│─,─── ╱\n",
       "               │2  2 ╱ "
      ]
     },
     "execution_count": 59,
     "metadata": {},
     "output_type": "execute_result"
    }
   ],
   "source": [
    "r2 = qapply(Jminus**2*r1)\n",
    "r2"
   ]
  },
  {
   "cell_type": "code",
   "execution_count": 60,
   "id": "757c43e8-299f-465d-b629-371a6bec6845",
   "metadata": {},
   "outputs": [
    {
     "data": {
      "image/png": "[encoded data removed]",
      "text/latex": [
       "$\\displaystyle 2 \\hbar^{4} N \\left(N - 1\\right) {\\left|\\frac{N}{2},- \\frac{N}{2}\\right\\rangle }$"
      ],
      "text/plain": [
       "               │     ╲ \n",
       "   4           │N -N  ╲\n",
       "2⋅ℏ ⋅N⋅(N - 1)⋅│─,─── ╱\n",
       "               │2  2 ╱ "
      ]
     },
     "execution_count": 60,
     "metadata": {},
     "output_type": "execute_result"
    }
   ],
   "source": [
    "sp.factor(r2)"
   ]
  },
  {
   "cell_type": "code",
   "execution_count": null,
   "id": "89a7895f-28e3-4ee5-b0b6-55801c8570ef",
   "metadata": {},
   "outputs": [],
   "source": []
  }
 ],
 "metadata": {
  "kernelspec": {
   "display_name": "Python 3 (ipykernel)",
   "language": "python",
   "name": "python3"
  },
  "language_info": {
   "codemirror_mode": {
    "name": "ipython",
    "version": 3
   },
   "file_extension": ".py",
   "mimetype": "text/x-python",
   "name": "python",
   "nbconvert_exporter": "python",
   "pygments_lexer": "ipython3",
   "version": "3.11.6"
  }
 },
 "nbformat": 4,
 "nbformat_minor": 5
}
