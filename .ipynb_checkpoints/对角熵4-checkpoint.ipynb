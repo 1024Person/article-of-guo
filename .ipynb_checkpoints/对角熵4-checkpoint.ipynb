{
 "cells": [
  {
   "cell_type": "code",
   "execution_count": 16,
   "id": "23c99754-c38b-4c7f-beca-a1c32a02e0fe",
   "metadata": {},
   "outputs": [],
   "source": [
    "import sympy as sp\n",
    "from sympy.abc import x\n",
    "from sympy import I,sin,cos,series,exp,expand,symbols\n",
    "from sympy.physics.quantum.spin import Jx,Jy,Jz,JzKet,JzBra\n",
    "from sympy.physics.quantum.qapply import qapply\n"
   ]
  },
  {
   "cell_type": "code",
   "execution_count": 3,
   "id": "eccd247c-be70-4799-99b5-ea30fe9f1154",
   "metadata": {},
   "outputs": [
    {
     "data": {
      "text/latex": [
       "$\\displaystyle 1 - \\frac{x^{2}}{2} + \\frac{x^{4}}{24} + O\\left(x^{5}\\right)$"
      ],
      "text/plain": [
       "1 - x**2/2 + x**4/24 + O(x**5)"
      ]
     },
     "execution_count": 3,
     "metadata": {},
     "output_type": "execute_result"
    }
   ],
   "source": [
    "series(cos(x),x,0,n=5)"
   ]
  },
  {
   "cell_type": "code",
   "execution_count": 5,
   "id": "2ed5bcf8-084c-4a01-b1a8-0779e03880db",
   "metadata": {},
   "outputs": [
    {
     "data": {
      "text/latex": [
       "$\\displaystyle 1 + i x - \\frac{x^{2}}{2} - \\frac{i x^{3}}{6} + \\frac{x^{4}}{24} + O\\left(x^{5}\\right)$"
      ],
      "text/plain": [
       "1 + I*x - x**2/2 - I*x**3/6 + x**4/24 + O(x**5)"
      ]
     },
     "execution_count": 5,
     "metadata": {},
     "output_type": "execute_result"
    }
   ],
   "source": [
    "series(exp(I*x),x,0,5)"
   ]
  },
  {
   "cell_type": "code",
   "execution_count": null,
   "id": "f75a07a3-e757-4c40-8498-cd3eb5c2171d",
   "metadata": {},
   "outputs": [],
   "source": [
    "B2,B3,B8,B9,B11,B12 = sp.symbols('B_2,B_3,B_8,B_9,B_{11},B_{12}')\n",
    "x33 = B2*Jy+B3*Jz+B8*Jy*Jz+B9*Jz*Jy+B11*Jy**2+B12*Jz**2"
   ]
  },
  {
   "cell_type": "code",
   "execution_count": 14,
   "id": "f9070713-1b8d-4661-8d4c-caf5e1bf132c",
   "metadata": {},
   "outputs": [
    {
     "data": {
      "text/latex": [
       "$\\displaystyle \\frac{\\sqrt{2} \\hbar {\\left|1,-1\\right\\rangle }}{2} + \\frac{\\sqrt{2} \\hbar {\\left|1,1\\right\\rangle }}{2}$"
      ],
      "text/plain": [
       "sqrt(2)*hbar*|1,-1>/2 + sqrt(2)*hbar*|1,1>/2"
      ]
     },
     "execution_count": 14,
     "metadata": {},
     "output_type": "execute_result"
    }
   ],
   "source": [
    "qapply(Jx*JzKet(1,0))"
   ]
  },
  {
   "cell_type": "code",
   "execution_count": 19,
   "id": "6b785162-8016-418d-b674-66f48b495527",
   "metadata": {},
   "outputs": [
    {
     "data": {
      "text/latex": [
       "$\\displaystyle - B_{2} \\sin{\\left(\\mu \\right)} \\sin{\\left(\\nu \\right)} J_x J_y^{2} - i B_{2} \\sin{\\left(\\mu \\right)} \\cos{\\left(\\nu \\right)} J_x J_y - i B_{2} \\sin{\\left(\\nu \\right)} \\cos{\\left(\\mu \\right)} J_y^{2} + B_{2} \\cos{\\left(\\mu \\right)} \\cos{\\left(\\nu \\right)} J_y - B_{3} \\sin{\\left(\\mu \\right)} \\sin{\\left(\\nu \\right)} J_x J_y J_z - i B_{3} \\sin{\\left(\\mu \\right)} \\cos{\\left(\\nu \\right)} J_x J_z - i B_{3} \\sin{\\left(\\nu \\right)} \\cos{\\left(\\mu \\right)} J_y J_z + B_{3} \\cos{\\left(\\mu \\right)} \\cos{\\left(\\nu \\right)} J_z - B_{8} \\sin{\\left(\\mu \\right)} \\sin{\\left(\\nu \\right)} J_x J_y^{2} J_z - i B_{8} \\sin{\\left(\\mu \\right)} \\cos{\\left(\\nu \\right)} J_x J_y J_z - i B_{8} \\sin{\\left(\\nu \\right)} \\cos{\\left(\\mu \\right)} J_y^{2} J_z + B_{8} \\cos{\\left(\\mu \\right)} \\cos{\\left(\\nu \\right)} J_y J_z - B_{9} \\sin{\\left(\\mu \\right)} \\sin{\\left(\\nu \\right)} J_x J_y J_z J_y - i B_{9} \\sin{\\left(\\mu \\right)} \\cos{\\left(\\nu \\right)} J_x J_z J_y - i B_{9} \\sin{\\left(\\nu \\right)} \\cos{\\left(\\mu \\right)} J_y J_z J_y + B_{9} \\cos{\\left(\\mu \\right)} \\cos{\\left(\\nu \\right)} J_z J_y - B_{11} \\sin{\\left(\\mu \\right)} \\sin{\\left(\\nu \\right)} J_x J_y^{3} - i B_{11} \\sin{\\left(\\mu \\right)} \\cos{\\left(\\nu \\right)} J_x J_y^{2} - i B_{11} \\sin{\\left(\\nu \\right)} \\cos{\\left(\\mu \\right)} J_y^{3} + B_{11} \\cos{\\left(\\mu \\right)} \\cos{\\left(\\nu \\right)} J_y^{2} - B_{12} \\sin{\\left(\\mu \\right)} \\sin{\\left(\\nu \\right)} J_x J_y J_z^{2} - i B_{12} \\sin{\\left(\\mu \\right)} \\cos{\\left(\\nu \\right)} J_x J_z^{2} - i B_{12} \\sin{\\left(\\nu \\right)} \\cos{\\left(\\mu \\right)} J_y J_z^{2} + B_{12} \\cos{\\left(\\mu \\right)} \\cos{\\left(\\nu \\right)} J_z^{2}$"
      ],
      "text/plain": [
       "-B_2*sin(mu)*sin(nu)*Jx*Jy**2 - I*B_2*sin(mu)*cos(nu)*Jx*Jy - I*B_2*sin(nu)*cos(mu)*Jy**2 + B_2*cos(mu)*cos(nu)*Jy - B_3*sin(mu)*sin(nu)*Jx*Jy*Jz - I*B_3*sin(mu)*cos(nu)*Jx*Jz - I*B_3*sin(nu)*cos(mu)*Jy*Jz + B_3*cos(mu)*cos(nu)*Jz - B_8*sin(mu)*sin(nu)*Jx*Jy**2*Jz - I*B_8*sin(mu)*cos(nu)*Jx*Jy*Jz - I*B_8*sin(nu)*cos(mu)*Jy**2*Jz + B_8*cos(mu)*cos(nu)*Jy*Jz - B_9*sin(mu)*sin(nu)*Jx*Jy*Jz*Jy - I*B_9*sin(mu)*cos(nu)*Jx*Jz*Jy - I*B_9*sin(nu)*cos(mu)*Jy*Jz*Jy + B_9*cos(mu)*cos(nu)*Jz*Jy - B_{11}*sin(mu)*sin(nu)*Jx*Jy**3 - I*B_{11}*sin(mu)*cos(nu)*Jx*Jy**2 - I*B_{11}*sin(nu)*cos(mu)*Jy**3 + B_{11}*cos(mu)*cos(nu)*Jy**2 - B_{12}*sin(mu)*sin(nu)*Jx*Jy*Jz**2 - I*B_{12}*sin(mu)*cos(nu)*Jx*Jz**2 - I*B_{12}*sin(nu)*cos(mu)*Jy*Jz**2 + B_{12}*cos(mu)*cos(nu)*Jz**2"
      ]
     },
     "execution_count": 19,
     "metadata": {},
     "output_type": "execute_result"
    }
   ],
   "source": [
    "mu,nu,N = symbols(\"mu,nu,N\")\n",
    "expr = (cos(mu)-I*Jx*sin(mu))*(cos(nu)-I*Jy*sin(nu))\n",
    "expand(expr*x33)"
   ]
  },
  {
   "cell_type": "code",
   "execution_count": 21,
   "id": "8bbb3762-84de-405a-9885-e6b91269388e",
   "metadata": {},
   "outputs": [
    {
     "data": {
      "text/latex": [
       "$\\displaystyle \\frac{\\hbar^{2} i \\sqrt{N} \\sqrt{2 N - 2} \\sin{\\left(\\mu \\right)} \\sin{\\left(\\nu \\right)} {\\left|\\frac{N}{2},2 - \\frac{N}{2}\\right\\rangle }}{4} - \\frac{\\hbar i \\sqrt{N} \\sin{\\left(\\mu \\right)} \\cos{\\left(\\nu \\right)} {\\left|\\frac{N}{2},1 - \\frac{N}{2}\\right\\rangle }}{2} - \\frac{\\hbar \\sqrt{N} \\sin{\\left(\\nu \\right)} \\cos{\\left(\\mu \\right)} {\\left|\\frac{N}{2},1 - \\frac{N}{2}\\right\\rangle }}{2} + \\frac{\\hbar^{2} i N \\sin{\\left(\\mu \\right)} \\sin{\\left(\\nu \\right)} {\\left|\\frac{N}{2},- \\frac{N}{2}\\right\\rangle }}{4} + \\cos{\\left(\\mu \\right)} \\cos{\\left(\\nu \\right)} {\\left|\\frac{N}{2},- \\frac{N}{2}\\right\\rangle }$"
      ],
      "text/plain": [
       "hbar**2*I*sqrt(N)*sqrt(2*N - 2)*sin(mu)*sin(nu)*|N/2,2 - N/2>/4 - hbar*I*sqrt(N)*sin(mu)*cos(nu)*|N/2,1 - N/2>/2 - hbar*sqrt(N)*sin(nu)*cos(mu)*|N/2,1 - N/2>/2 + hbar**2*I*N*sin(mu)*sin(nu)*|N/2,-N/2>/4 + cos(mu)*cos(nu)*|N/2,-N/2>"
      ]
     },
     "execution_count": 21,
     "metadata": {},
     "output_type": "execute_result"
    }
   ],
   "source": [
    "state0 = JzKet(N/2,-N/2)\n",
    "qapply(expr*state0)"
   ]
  },
  {
   "cell_type": "code",
   "execution_count": 22,
   "id": "e0daf428-4e09-454d-b7d9-ab91e1367849",
   "metadata": {},
   "outputs": [],
   "source": [
    "rd = 1+I*x-x**2/2-I*x**3/6+x**4/24"
   ]
  },
  {
   "cell_type": "code",
   "execution_count": 24,
   "id": "696c1d9a-d356-453b-8406-205ab3b1f640",
   "metadata": {},
   "outputs": [
    {
     "data": {
      "text/latex": [
       "$\\displaystyle - \\frac{x^{4} \\sin{\\left(\\mu \\right)} \\sin{\\left(\\nu \\right)} J_x J_y}{24} - \\frac{i x^{4} \\sin{\\left(\\mu \\right)} \\cos{\\left(\\nu \\right)} J_x}{24} - \\frac{i x^{4} \\sin{\\left(\\nu \\right)} \\cos{\\left(\\mu \\right)} J_y}{24} + \\frac{x^{4} \\cos{\\left(\\mu \\right)} \\cos{\\left(\\nu \\right)}}{24} + \\frac{i x^{3} \\sin{\\left(\\mu \\right)} \\sin{\\left(\\nu \\right)} J_x J_y}{6} - \\frac{x^{3} \\sin{\\left(\\mu \\right)} \\cos{\\left(\\nu \\right)} J_x}{6} - \\frac{x^{3} \\sin{\\left(\\nu \\right)} \\cos{\\left(\\mu \\right)} J_y}{6} - \\frac{i x^{3} \\cos{\\left(\\mu \\right)} \\cos{\\left(\\nu \\right)}}{6} + \\frac{x^{2} \\sin{\\left(\\mu \\right)} \\sin{\\left(\\nu \\right)} J_x J_y}{2} + \\frac{i x^{2} \\sin{\\left(\\mu \\right)} \\cos{\\left(\\nu \\right)} J_x}{2} + \\frac{i x^{2} \\sin{\\left(\\nu \\right)} \\cos{\\left(\\mu \\right)} J_y}{2} - \\frac{x^{2} \\cos{\\left(\\mu \\right)} \\cos{\\left(\\nu \\right)}}{2} - i x \\sin{\\left(\\mu \\right)} \\sin{\\left(\\nu \\right)} J_x J_y + x \\sin{\\left(\\mu \\right)} \\cos{\\left(\\nu \\right)} J_x + x \\sin{\\left(\\nu \\right)} \\cos{\\left(\\mu \\right)} J_y + i x \\cos{\\left(\\mu \\right)} \\cos{\\left(\\nu \\right)} - \\sin{\\left(\\mu \\right)} \\sin{\\left(\\nu \\right)} J_x J_y - i \\sin{\\left(\\mu \\right)} \\cos{\\left(\\nu \\right)} J_x - i \\sin{\\left(\\nu \\right)} \\cos{\\left(\\mu \\right)} J_y + \\cos{\\left(\\mu \\right)} \\cos{\\left(\\nu \\right)}$"
      ],
      "text/plain": [
       "-x**4*sin(mu)*sin(nu)*Jx*Jy/24 - I*x**4*sin(mu)*cos(nu)*Jx/24 - I*x**4*sin(nu)*cos(mu)*Jy/24 + x**4*cos(mu)*cos(nu)/24 + I*x**3*sin(mu)*sin(nu)*Jx*Jy/6 - x**3*sin(mu)*cos(nu)*Jx/6 - x**3*sin(nu)*cos(mu)*Jy/6 - I*x**3*cos(mu)*cos(nu)/6 + x**2*sin(mu)*sin(nu)*Jx*Jy/2 + I*x**2*sin(mu)*cos(nu)*Jx/2 + I*x**2*sin(nu)*cos(mu)*Jy/2 - x**2*cos(mu)*cos(nu)/2 - I*x*sin(mu)*sin(nu)*Jx*Jy + x*sin(mu)*cos(nu)*Jx + x*sin(nu)*cos(mu)*Jy + I*x*cos(mu)*cos(nu) - sin(mu)*sin(nu)*Jx*Jy - I*sin(mu)*cos(nu)*Jx - I*sin(nu)*cos(mu)*Jy + cos(mu)*cos(nu)"
      ]
     },
     "execution_count": 24,
     "metadata": {},
     "output_type": "execute_result"
    }
   ],
   "source": [
    "expand(expr*rd)"
   ]
  },
  {
   "cell_type": "code",
   "execution_count": 25,
   "id": "e728a0d2-d7a3-4955-a7f2-54e0be6045a7",
   "metadata": {},
   "outputs": [
    {
     "data": {
      "text/latex": [
       "$\\displaystyle - \\sin{\\left(\\mu \\right)} \\sin{\\left(\\nu \\right)} J_x J_y - i \\sin{\\left(\\mu \\right)} \\cos{\\left(\\nu \\right)} J_x - i \\sin{\\left(\\nu \\right)} \\cos{\\left(\\mu \\right)} J_y + \\cos{\\left(\\mu \\right)} \\cos{\\left(\\nu \\right)}$"
      ],
      "text/plain": [
       "-sin(mu)*sin(nu)*Jx*Jy - I*sin(mu)*cos(nu)*Jx - I*sin(nu)*cos(mu)*Jy + cos(mu)*cos(nu)"
      ]
     },
     "execution_count": 25,
     "metadata": {},
     "output_type": "execute_result"
    }
   ],
   "source": [
    "expr0 = expand(expr*1)\n",
    "expr1 = expand(expr*I*x)\n",
    "expr2 = expand(expr*(-x**2/2))\n",
    "expr3 = expand(expr*(-I*x**3/6))\n",
    "expr4 = expand(expr*x**4/24)\n",
    "expr0"
   ]
  },
  {
   "cell_type": "code",
   "execution_count": 31,
   "id": "1dec23c6-25a8-4266-a62b-c53a46de2fd7",
   "metadata": {},
   "outputs": [
    {
     "data": {
      "image/png": "[encoded data removed]",
      "text/latex": [
       "$\\displaystyle \\left( \\frac{\\hbar^{2} i N \\sin{\\left(\\mu \\right)} \\sin{\\left(\\nu \\right)}}{4} + \\cos{\\left(\\mu \\right)} \\cos{\\left(\\nu \\right)}, \\  - \\frac{\\hbar i \\sqrt{N} \\sin{\\left(\\mu \\right)} \\cos{\\left(\\nu \\right)}}{2} - \\frac{\\hbar \\sqrt{N} \\sin{\\left(\\nu \\right)} \\cos{\\left(\\mu \\right)}}{2}, \\  \\frac{\\hbar^{2} i \\sqrt{N} \\sqrt{2 N - 2} \\sin{\\left(\\mu \\right)} \\sin{\\left(\\nu \\right)}}{4}, \\  0\\right)$"
      ],
      "text/plain": [
       "⎛ 2                                                                           \n",
       "⎜ℏ ⋅ⅈ⋅N⋅sin(μ)⋅sin(ν)                    ℏ⋅ⅈ⋅√N⋅sin(μ)⋅cos(ν)   ℏ⋅√N⋅sin(ν)⋅co\n",
       "⎜──────────────────── + cos(μ)⋅cos(ν), - ──────────────────── - ──────────────\n",
       "⎝         4                                       2                     2     \n",
       "\n",
       "       2        _________                 ⎞\n",
       "s(μ)  ℏ ⋅ⅈ⋅√N⋅╲╱ 2⋅N - 2 ⋅sin(μ)⋅sin(ν)   ⎟\n",
       "────, ─────────────────────────────────, 0⎟\n",
       "                      4                   ⎠"
      ]
     },
     "execution_count": 31,
     "metadata": {},
     "output_type": "execute_result"
    }
   ],
   "source": [
    "sp.init_printing()\n",
    "r0 = qapply(expr0*state0)\n",
    "r0c0=qapply(JzBra(N/2,-N/2)*r0)\n",
    "r0c1=qapply(JzBra(N/2,1-N/2)*r0)\n",
    "r0c2=qapply(JzBra(N/2,2-N/2)*r0)\n",
    "r0c3=qapply(JzBra(N/2,3-N/2)*r0)\n",
    "r0c0,r0c1,r0c2"
   ]
  },
  {
   "cell_type": "code",
   "execution_count": 32,
   "id": "465c0b55-7f0b-44bd-a575-ff1b245ceb25",
   "metadata": {},
   "outputs": [
    {
     "data": {
      "image/png": "[encoded data removed]",
      "text/latex": [
       "$\\displaystyle \\left( - \\frac{\\hbar^{2} N x \\sin{\\left(\\mu \\right)} \\sin{\\left(\\nu \\right)}}{4} + i x \\cos{\\left(\\mu \\right)} \\cos{\\left(\\nu \\right)}, \\  \\frac{\\hbar \\sqrt{N} x \\sin{\\left(\\mu \\right)} \\cos{\\left(\\nu \\right)}}{2} - \\frac{\\hbar i \\sqrt{N} x \\sin{\\left(\\nu \\right)} \\cos{\\left(\\mu \\right)}}{2}, \\  - \\frac{\\hbar^{2} \\sqrt{N} x \\sqrt{2 N - 2} \\sin{\\left(\\mu \\right)} \\sin{\\left(\\nu \\right)}}{4}\\right)$"
      ],
      "text/plain": [
       "⎛   2                                                                         \n",
       "⎜  ℏ ⋅N⋅x⋅sin(μ)⋅sin(ν)                      ℏ⋅√N⋅x⋅sin(μ)⋅cos(ν)   ℏ⋅ⅈ⋅√N⋅x⋅s\n",
       "⎜- ──────────────────── + ⅈ⋅x⋅cos(μ)⋅cos(ν), ──────────────────── - ──────────\n",
       "⎝           4                                         2                       \n",
       "\n",
       "                2        _________               ⎞\n",
       "in(ν)⋅cos(μ)  -ℏ ⋅√N⋅x⋅╲╱ 2⋅N - 2 ⋅sin(μ)⋅sin(ν) ⎟\n",
       "────────────, ───────────────────────────────────⎟\n",
       "2                              4                 ⎠"
      ]
     },
     "execution_count": 32,
     "metadata": {},
     "output_type": "execute_result"
    }
   ],
   "source": [
    "sp.init_printing()\n",
    "r1 = qapply(expr1*state0)\n",
    "r1c0=qapply(JzBra(N/2,-N/2) *r1)\n",
    "r1c1=qapply(JzBra(N/2,1-N/2)*r1)\n",
    "r1c2=qapply(JzBra(N/2,2-N/2)*r1)\n",
    "r1c3=qapply(JzBra(N/2,3-N/2)*r1)\n",
    "r1c0,r1c1,r1c2"
   ]
  },
  {
   "cell_type": "code",
   "execution_count": null,
   "id": "705e5b30-88fd-4562-ba1b-4668ecb5bfc0",
   "metadata": {},
   "outputs": [],
   "source": [
    "sp.init_printing()\n",
    "r2 = qapply(expr2*state0)\n",
    "r2c0=qapply(JzBra(N/2,-N/2) *r2)\n",
    "r2c1=qapply(JzBra(N/2,1-N/2)*r2)\n",
    "r2c2=qapply(JzBra(N/2,2-N/2)*r2)\n",
    "r2c3=qapply(JzBra(N/2,3-N/2)*r2)\n",
    "r2c0,r2c1,r2c2"
   ]
  }
 ],
 "metadata": {
  "kernelspec": {
   "display_name": "Python 3 (ipykernel)",
   "language": "python",
   "name": "python3"
  },
  "language_info": {
   "codemirror_mode": {
    "name": "ipython",
    "version": 3
   },
   "file_extension": ".py",
   "mimetype": "text/x-python",
   "name": "python",
   "nbconvert_exporter": "python",
   "pygments_lexer": "ipython3",
   "version": "3.11.6"
  }
 },
 "nbformat": 4,
 "nbformat_minor": 5
}
