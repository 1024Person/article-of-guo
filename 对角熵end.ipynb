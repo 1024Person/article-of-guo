{
 "cells": [
  {
   "cell_type": "code",
   "execution_count": 1,
   "id": "bbac6e88-40ba-4924-9b6d-cb2e6d0849e2",
   "metadata": {},
   "outputs": [],
   "source": [
    "import sympy as sp\n",
    "from sympy.physics.quantum.spin import Jx,Jy,Jz,JzKet\n",
    "from sympy.physics.quantum import represent,Dagger\n",
    "from sympy.physics.quantum.qapply import qapply\n",
    "from sympy import I,expand,series,Rational"
   ]
  },
  {
   "cell_type": "code",
   "execution_count": 3,
   "id": "0f09b54d-1168-4818-9549-2c25ef48ed86",
   "metadata": {},
   "outputs": [],
   "source": [
    "t = sp.symbols('t',real=True)\n",
    "N = sp.symbols('N')\n",
    "nu = sp.symbols('nu')\n",
    "mu = sp.symbols('mu')\n",
    "B2,B3,B8,B9,B11,B12 = sp.symbols('B_2,B_3,B_8,B_9,B_{11},B_{12}')\n",
    "state_0 = JzKet(N/2,-N/2) # 初态\n",
    "x11 = mu*Jx\n",
    "x22 = nu*Jy\n",
    "x33 = (B2*Jy+B3*Jz+B8*Jy*Jz+B9*Jz*Jy+B11*Jy**2+B12*Jz**2)\n",
    "x1,x2,x3  = sp.symbols('x1:4')\n",
    "e1 = sp.exp(-I*x1)\n",
    "e2 = sp.exp(-I*x2)\n",
    "e3 = sp.exp(I*x3)"
   ]
  },
  {
   "cell_type": "code",
   "execution_count": null,
   "id": "efb0b9af-1ab7-40d2-a349-2b6ec22261c2",
   "metadata": {},
   "outputs": [],
   "source": []
  }
 ],
 "metadata": {
  "kernelspec": {
   "display_name": "Python 3 (ipykernel)",
   "language": "python",
   "name": "python3"
  },
  "language_info": {
   "codemirror_mode": {
    "name": "ipython",
    "version": 3
   },
   "file_extension": ".py",
   "mimetype": "text/x-python",
   "name": "python",
   "nbconvert_exporter": "python",
   "pygments_lexer": "ipython3",
   "version": "3.11.6"
  }
 },
 "nbformat": 4,
 "nbformat_minor": 5
}
